{
  "nbformat": 4,
  "nbformat_minor": 0

  "metadata": {

    "colab": {

      "provenance": [],

      "collapsed_sections": []
    },
    "kernelspec": {
      "name": "python3",
      "display_name": "Python 3"
    },
    "language_info": {
      "name": "python"
    }
  },
  "cells": [
    {
      "cell_type": "markdown",
      "source": [
        "# Apple Stock Price Prediction Based on News and Historical Stock Price Data\n",
        "\n"
      ],
      "metadata": {
        "id": "qxRKpp4Fjw1M"
      }
    },
    {
      "cell_type": "markdown",
      "source": [

      ],
      "metadata": {
        "id": "onAVHR2GkBZV"
      }
    },
    {
      "cell_type": "markdown",
      "source": [
        "# 1. Import Libraries\n",
        "\n"
      ],
      "metadata": {
        "id": "g3ho4chDf2Cp"
      }
    },
    {
      "cell_type": "code",
      "execution_count": null,
      "metadata": {
        "id": "uDteCRG-d6_z",
        "colab": {
          "base_uri": "https://localhost:8080/"
        },
        "outputId": "5ec2f3f0-b69d-4320-98e0-d67a0c650924"
      },
      "outputs": [
        {
          "output_type": "stream",
          "name": "stderr",
          "text": [
            "[nltk_data] Downloading package stopwords to /root/nltk_data...\n",
            "[nltk_data]   Package stopwords is already up-to-date!\n",
            "[nltk_data] Downloading package punkt to /root/nltk_data...\n",
            "[nltk_data]   Package punkt is already up-to-date!\n"
          ]
        }
      ],
      "source": [
        "# general usage\n",
        "import numpy as np\n",
        "import pandas as pd\n",
        "from typing import Tuple\n",
        "\n",
        "# for data preprocessing\n",
        "import string\n",
        "import nltk\n",
        "from nltk.corpus import stopwords\n",
        "from nltk.tokenize import word_tokenize\n",
        "nltk.download('stopwords')\n",
        "nltk.download('punkt')\n",
        "from sklearn.preprocessing import StandardScaler\n",
        "from sklearn.feature_extraction.text import CountVectorizer\n",
        "\n",
        "# for data modelling\n",
        "from xgboost import XGBClassifier\n",
        "from sklearn.model_selection import StratifiedKFold\n",
        "from sklearn.model_selection import train_test_split\n",
        "from sklearn.model_selection import GridSearchCV\n",
        "from sklearn.linear_model import LogisticRegression\n",
        "\n",
        "# for evaluation\n",
        "from sklearn.metrics import classification_report\n",
        "from sklearn.metrics import f1_score\n",
        "from sklearn.metrics import accuracy_score\n",
        "from sklearn.metrics import confusion_matrix"
      ]
    },
    {
      "cell_type": "markdown",
      "source": [
        "# 2. Data Understanding"
      ],
      "metadata": {
        "id": "zdKiIaqhf6rG"
      }
    },
    {
      "cell_type": "markdown",
      "source": [
        "## Apple Stock Data\n",
        "\n",
        "• 2301 rows and 7 columns\n",
        "\n",
        "• Dates:\n",
        "( 08 June, 2008 to 30 June, 2016)\n",
        "\n",
        "• Contains some missing days\n",
        "(e.g. days on which the stock market doesn't open)"
      ],
      "metadata": {
        "id": "SHGR6RSuyp7H"
      }
    },
    {
      "cell_type": "markdown",
      "source": [
        "Apple stock data downloaded from Yahoo Finance - from June 8, 2008 to June 30, 2016"
      ],
      "metadata": {
        "id": "gW140S_tgOuz"
      }
    },
    {
      "cell_type": "code",
      "source": [
        "stock_prices = pd.read_csv(\"AAPL.csv\")\n",
        "stock_prices.head(2)"
      ],
      "metadata": {
        "id": "gn5xQbQrixCi",
        "colab": {
          "base_uri": "https://localhost:8080/",
          "height": 112
        },
        "outputId": "0c8a0ec6-fb22-425f-97fc-84099f0d9556"
      },
      "execution_count": null,
      "outputs": [
        {
          "output_type": "execute_result",
          "data": {
            "text/plain": [
              "         Date      Open      High       Low     Close  Adj Close      Volume\n",
              "0  2008-06-09  6.599643  6.605000  6.276786  6.486071   5.545707  1888392800\n",
              "1  2008-06-10  6.446786  6.670714  6.393571  6.630000   5.668770  1140941200"
            ],
            "text/html": [
              "\n",
              "  <div id=\"df-02178ef6-0e22-437d-93c6-73034696a7b8\">\n",
              "    <div class=\"colab-df-container\">\n",
              "      <div>\n",
              "<style scoped>\n",
              "    .dataframe tbody tr th:only-of-type {\n",
              "        vertical-align: middle;\n",
              "    }\n",
              "\n",
              "    .dataframe tbody tr th {\n",
              "        vertical-align: top;\n",
              "    }\n",
              "\n",
              "    .dataframe thead th {\n",
              "        text-align: right;\n",
              "    }\n",
              "</style>\n",
              "<table border=\"1\" class=\"dataframe\">\n",
              "  <thead>\n",
              "    <tr style=\"text-align: right;\">\n",
              "      <th></th>\n",
              "      <th>Date</th>\n",
              "      <th>Open</th>\n",
              "      <th>High</th>\n",
              "      <th>Low</th>\n",
              "      <th>Close</th>\n",
              "      <th>Adj Close</th>\n",
              "      <th>Volume</th>\n",
              "    </tr>\n",
              "  </thead>\n",
              "  <tbody>\n",
              "    <tr>\n",
              "      <th>0</th>\n",
              "      <td>2008-06-09</td>\n",
              "      <td>6.599643</td>\n",
              "      <td>6.605000</td>\n",
              "      <td>6.276786</td>\n",
              "      <td>6.486071</td>\n",
              "      <td>5.545707</td>\n",
              "      <td>1888392800</td>\n",
              "    </tr>\n",
              "    <tr>\n",
              "      <th>1</th>\n",
              "      <td>2008-06-10</td>\n",
              "      <td>6.446786</td>\n",
              "      <td>6.670714</td>\n",
              "      <td>6.393571</td>\n",
              "      <td>6.630000</td>\n",
              "      <td>5.668770</td>\n",
              "      <td>1140941200</td>\n",
              "    </tr>\n",
              "  </tbody>\n",
              "</table>\n",
              "</div>\n",
              "      <button class=\"colab-df-convert\" onclick=\"convertToInteractive('df-02178ef6-0e22-437d-93c6-73034696a7b8')\"\n",
              "              title=\"Convert this dataframe to an interactive table.\"\n",
              "              style=\"display:none;\">\n",
              "        \n",
              "  <svg xmlns=\"http://www.w3.org/2000/svg\" height=\"24px\"viewBox=\"0 0 24 24\"\n",
              "       width=\"24px\">\n",
              "    <path d=\"M0 0h24v24H0V0z\" fill=\"none\"/>\n",
              "    <path d=\"M18.56 5.44l.94 2.06.94-2.06 2.06-.94-2.06-.94-.94-2.06-.94 2.06-2.06.94zm-11 1L8.5 8.5l.94-2.06 2.06-.94-2.06-.94L8.5 2.5l-.94 2.06-2.06.94zm10 10l.94 2.06.94-2.06 2.06-.94-2.06-.94-.94-2.06-.94 2.06-2.06.94z\"/><path d=\"M17.41 7.96l-1.37-1.37c-.4-.4-.92-.59-1.43-.59-.52 0-1.04.2-1.43.59L10.3 9.45l-7.72 7.72c-.78.78-.78 2.05 0 2.83L4 21.41c.39.39.9.59 1.41.59.51 0 1.02-.2 1.41-.59l7.78-7.78 2.81-2.81c.8-.78.8-2.07 0-2.86zM5.41 20L4 18.59l7.72-7.72 1.47 1.35L5.41 20z\"/>\n",
              "  </svg>\n",
              "      </button>\n",
              "      \n",
              "  <style>\n",
              "    .colab-df-container {\n",
              "      display:flex;\n",
              "      flex-wrap:wrap;\n",
              "      gap: 12px;\n",
              "    }\n",
              "\n",
              "    .colab-df-convert {\n",
              "      background-color: #E8F0FE;\n",
              "      border: none;\n",
              "      border-radius: 50%;\n",
              "      cursor: pointer;\n",
              "      display: none;\n",
              "      fill: #1967D2;\n",
              "      height: 32px;\n",
              "      padding: 0 0 0 0;\n",
              "      width: 32px;\n",
              "    }\n",
              "\n",
              "    .colab-df-convert:hover {\n",
              "      background-color: #E2EBFA;\n",
              "      box-shadow: 0px 1px 2px rgba(60, 64, 67, 0.3), 0px 1px 3px 1px rgba(60, 64, 67, 0.15);\n",
              "      fill: #174EA6;\n",
              "    }\n",
              "\n",
              "    [theme=dark] .colab-df-convert {\n",
              "      background-color: #3B4455;\n",
              "      fill: #D2E3FC;\n",
              "    }\n",
              "\n",
              "    [theme=dark] .colab-df-convert:hover {\n",
              "      background-color: #434B5C;\n",
              "      box-shadow: 0px 1px 3px 1px rgba(0, 0, 0, 0.15);\n",
              "      filter: drop-shadow(0px 1px 2px rgba(0, 0, 0, 0.3));\n",
              "      fill: #FFFFFF;\n",
              "    }\n",
              "  </style>\n",
              "\n",
              "      <script>\n",
              "        const buttonEl =\n",
              "          document.querySelector('#df-02178ef6-0e22-437d-93c6-73034696a7b8 button.colab-df-convert');\n",
              "        buttonEl.style.display =\n",
              "          google.colab.kernel.accessAllowed ? 'block' : 'none';\n",
              "\n",
              "        async function convertToInteractive(key) {\n",
              "          const element = document.querySelector('#df-02178ef6-0e22-437d-93c6-73034696a7b8');\n",
              "          const dataTable =\n",
              "            await google.colab.kernel.invokeFunction('convertToInteractive',\n",
              "                                                     [key], {});\n",
              "          if (!dataTable) return;\n",
              "\n",
              "          const docLinkHtml = 'Like what you see? Visit the ' +\n",
              "            '<a target=\"_blank\" href=https://colab.research.google.com/notebooks/data_table.ipynb>data table notebook</a>'\n",
              "            + ' to learn more about interactive tables.';\n",
              "          element.innerHTML = '';\n",
              "          dataTable['output_type'] = 'display_data';\n",
              "          await google.colab.output.renderOutput(dataTable, element);\n",
              "          const docLink = document.createElement('div');\n",
              "          docLink.innerHTML = docLinkHtml;\n",
              "          element.appendChild(docLink);\n",
              "        }\n",
              "      </script>\n",
              "    </div>\n",
              "  </div>\n",
              "  "
            ]
          },
          "metadata": {},
          "execution_count": 22
        }
      ]
    },
    {
      "cell_type": "markdown",
      "source": [
        "See if there is any null data in the dataset."
      ],
      "metadata": {
        "id": "6LxwVrvFy-AQ"
      }
    },
    {
      "cell_type": "code",
      "source": [
        "stock_prices.isnull().sum()"
      ],
      "metadata": {
        "id": "gB8ruPLhl2TR",
        "colab": {
          "base_uri": "https://localhost:8080/"
        },
        "outputId": "088d4de0-57b6-4989-ee50-b0c53606961c"
      },
      "execution_count": null,
      "outputs": [
        {
          "output_type": "execute_result",
          "data": {
            "text/plain": [
              "Date         0\n",
              "Open         0\n",
              "High         0\n",
              "Low          0\n",
              "Close        0\n",
              "Adj Close    0\n",
              "Volume       0\n",
              "dtype: int64"
            ]
          },
          "metadata": {},
          "execution_count": 13
        }
      ]
    },
    {
      "cell_type": "markdown",
      "source": [
        "## News Data\n",
        "\n",
        "Date: Time of the news \n",
        "08 June, 2008 to 01 January, 2016\n",
        "\n",
        "News: News headline \n",
        "\n",
        "73607 rows and 2 columns \n",
        "(Some news are from the same day)\n"
      ],
      "metadata": {
        "id": "5jzvQvrlyuPm"
      }
    },
    {
      "cell_type": "markdown",
      "source": [
        "News data downloaded from Canvas"
      ],
      "metadata": {
        "id": "STjMO4alyaWW"
      }
    },
    {
      "cell_type": "code",
      "source": [
        "news = pd.read_csv('RedditNews.csv')\n",
        "news.head(2)"
      ],
      "metadata": {
        "id": "O2zZXOrvyatg",
        "colab": {
          "base_uri": "https://localhost:8080/",
          "height": 112
        },
        "outputId": "00892b4c-dba3-4022-cc23-ffce63334b6f"
      },
      "execution_count": null,
      "outputs": [
        {
          "output_type": "execute_result",
          "data": {
            "text/plain": [
              "         Date                                               News\n",
              "0  2016-07-01  A 117-year-old woman in Mexico City finally re...\n",
              "1  2016-07-01   IMF chief backs Athens as permanent Olympic host"
            ],
            "text/html": [
              "\n",
              "  <div id=\"df-7796da93-5c9c-4dd9-87c8-2e756890eda7\">\n",
              "    <div class=\"colab-df-container\">\n",
              "      <div>\n",
              "<style scoped>\n",
              "    .dataframe tbody tr th:only-of-type {\n",
              "        vertical-align: middle;\n",
              "    }\n",
              "\n",
              "    .dataframe tbody tr th {\n",
              "        vertical-align: top;\n",
              "    }\n",
              "\n",
              "    .dataframe thead th {\n",
              "        text-align: right;\n",
              "    }\n",
              "</style>\n",
              "<table border=\"1\" class=\"dataframe\">\n",
              "  <thead>\n",
              "    <tr style=\"text-align: right;\">\n",
              "      <th></th>\n",
              "      <th>Date</th>\n",
              "      <th>News</th>\n",
              "    </tr>\n",
              "  </thead>\n",
              "  <tbody>\n",
              "    <tr>\n",
              "      <th>0</th>\n",
              "      <td>2016-07-01</td>\n",
              "      <td>A 117-year-old woman in Mexico City finally re...</td>\n",
              "    </tr>\n",
              "    <tr>\n",
              "      <th>1</th>\n",
              "      <td>2016-07-01</td>\n",
              "      <td>IMF chief backs Athens as permanent Olympic host</td>\n",
              "    </tr>\n",
              "  </tbody>\n",
              "</table>\n",
              "</div>\n",
              "      <button class=\"colab-df-convert\" onclick=\"convertToInteractive('df-7796da93-5c9c-4dd9-87c8-2e756890eda7')\"\n",
              "              title=\"Convert this dataframe to an interactive table.\"\n",
              "              style=\"display:none;\">\n",
              "        \n",
              "  <svg xmlns=\"http://www.w3.org/2000/svg\" height=\"24px\"viewBox=\"0 0 24 24\"\n",
              "       width=\"24px\">\n",
              "    <path d=\"M0 0h24v24H0V0z\" fill=\"none\"/>\n",
              "    <path d=\"M18.56 5.44l.94 2.06.94-2.06 2.06-.94-2.06-.94-.94-2.06-.94 2.06-2.06.94zm-11 1L8.5 8.5l.94-2.06 2.06-.94-2.06-.94L8.5 2.5l-.94 2.06-2.06.94zm10 10l.94 2.06.94-2.06 2.06-.94-2.06-.94-.94-2.06-.94 2.06-2.06.94z\"/><path d=\"M17.41 7.96l-1.37-1.37c-.4-.4-.92-.59-1.43-.59-.52 0-1.04.2-1.43.59L10.3 9.45l-7.72 7.72c-.78.78-.78 2.05 0 2.83L4 21.41c.39.39.9.59 1.41.59.51 0 1.02-.2 1.41-.59l7.78-7.78 2.81-2.81c.8-.78.8-2.07 0-2.86zM5.41 20L4 18.59l7.72-7.72 1.47 1.35L5.41 20z\"/>\n",
              "  </svg>\n",
              "      </button>\n",
              "      \n",
              "  <style>\n",
              "    .colab-df-container {\n",
              "      display:flex;\n",
              "      flex-wrap:wrap;\n",
              "      gap: 12px;\n",
              "    }\n",
              "\n",
              "    .colab-df-convert {\n",
              "      background-color: #E8F0FE;\n",
              "      border: none;\n",
              "      border-radius: 50%;\n",
              "      cursor: pointer;\n",
              "      display: none;\n",
              "      fill: #1967D2;\n",
              "      height: 32px;\n",
              "      padding: 0 0 0 0;\n",
              "      width: 32px;\n",
              "    }\n",
              "\n",
              "    .colab-df-convert:hover {\n",
              "      background-color: #E2EBFA;\n",
              "      box-shadow: 0px 1px 2px rgba(60, 64, 67, 0.3), 0px 1px 3px 1px rgba(60, 64, 67, 0.15);\n",
              "      fill: #174EA6;\n",
              "    }\n",
              "\n",
              "    [theme=dark] .colab-df-convert {\n",
              "      background-color: #3B4455;\n",
              "      fill: #D2E3FC;\n",
              "    }\n",
              "\n",
              "    [theme=dark] .colab-df-convert:hover {\n",
              "      background-color: #434B5C;\n",
              "      box-shadow: 0px 1px 3px 1px rgba(0, 0, 0, 0.15);\n",
              "      filter: drop-shadow(0px 1px 2px rgba(0, 0, 0, 0.3));\n",
              "      fill: #FFFFFF;\n",
              "    }\n",
              "  </style>\n",
              "\n",
              "      <script>\n",
              "        const buttonEl =\n",
              "          document.querySelector('#df-7796da93-5c9c-4dd9-87c8-2e756890eda7 button.colab-df-convert');\n",
              "        buttonEl.style.display =\n",
              "          google.colab.kernel.accessAllowed ? 'block' : 'none';\n",
              "\n",
              "        async function convertToInteractive(key) {\n",
              "          const element = document.querySelector('#df-7796da93-5c9c-4dd9-87c8-2e756890eda7');\n",
              "          const dataTable =\n",
              "            await google.colab.kernel.invokeFunction('convertToInteractive',\n",
              "                                                     [key], {});\n",
              "          if (!dataTable) return;\n",
              "\n",
              "          const docLinkHtml = 'Like what you see? Visit the ' +\n",
              "            '<a target=\"_blank\" href=https://colab.research.google.com/notebooks/data_table.ipynb>data table notebook</a>'\n",
              "            + ' to learn more about interactive tables.';\n",
              "          element.innerHTML = '';\n",
              "          dataTable['output_type'] = 'display_data';\n",
              "          await google.colab.output.renderOutput(dataTable, element);\n",
              "          const docLink = document.createElement('div');\n",
              "          docLink.innerHTML = docLinkHtml;\n",
              "          element.appendChild(docLink);\n",
              "        }\n",
              "      </script>\n",
              "    </div>\n",
              "  </div>\n",
              "  "
            ]
          },
          "metadata": {},
          "execution_count": 14
        }
      ]
    },
    {
      "cell_type": "markdown",
      "source": [
        "See if there is any null data in the dataset."
      ],
      "metadata": {
        "id": "u3vnFMdczLcJ"
      }
    },
    {
      "cell_type": "code",
      "source": [
        "news.isnull().sum()"
      ],
      "metadata": {
        "colab": {
          "base_uri": "https://localhost:8080/"
        },
        "id": "5JE__dGWy8h_",
        "outputId": "2e783c48-9bc5-48ea-a7a8-95a6f14a0ad4"
      },
      "execution_count": null,
      "outputs": [
        {
          "output_type": "execute_result",
          "data": {
            "text/plain": [
              "Date    0\n",
              "News    0\n",
              "dtype: int64"
            ]
          },
          "metadata": {},
          "execution_count": 15
        }
      ]
    },
    {
      "cell_type": "markdown",
      "source": [
        "# 3. Data Preprocessing"
      ],
      "metadata": {
        "id": "J8ggAKcei01F"
      }
    },
    {
      "cell_type": "markdown",
      "source": [
        "## News Data: Merge the news that are posted in the same day into one row."
      ],
      "metadata": {
        "id": "2DyGN0MaGZHi"
      }
    },
    {
      "cell_type": "code",
      "source": [
        "aggregation_functions = {'News': ' '.join}\n",
        "news = news.groupby(news['Date']).aggregate(aggregation_functions)\n",
        "\n",
        "print(news.iloc[0,0])"
      ],
      "metadata": {
        "id": "kvgMW29pGZkl",
        "colab": {
          "base_uri": "https://localhost:8080/"
        },
        "outputId": "8b53c7b7-27fc-4752-9a9a-90507295d95f"
      },
      "execution_count": null,
      "outputs": [
        {
          "output_type": "stream",
          "name": "stdout",
          "text": [
            "b'Nim Chimpsky: The tragedy of the chimp who thought he was a boy (and proved that humans were not humane)' b\"Canada: Beware slippery slope' to censorship, hearing told \" b'EU Vice-President Luisa Morgantini and the Irish Nobel laureate, Mairead Corrigan, have been tear gased and injured by the IDF while attending the \"International Conference on Non-violent Resistance\"' b\"Israeli minister: Israel will attack Iran if it doesn't abandon its nuclear program\" b'Albino Killings in Tanzania. At least 19 albinos, including several young children, have been killed in Tanzania in the past year. [video] ' b'Chiapas: army occupies Zapatista communities in \"anti-drug\" ops' b'Polar bear swims 200 miles, is shot dead upon arrival' b'News is a contraband item in Pakistan now, and it is being sold on the black market,' b'Albinos, Long Shunned, Face Threat in Tanzania where witch doctors are now marketing albino skin, bones and hair as ingredients in potions that are promised to make people rich.' b'Town in Britain Plans to Start its Own Currency' b'BBC reporter among 16 dead in Afghanistan' b'Lebanese women still vulnerable to violence: existing legal framework violates international human rights law because it fails to protect women from domestic violence' b'Police release chilling images of man left for dead by hit-and-run driver' b\"Iceland opens Europe's largest national park. The 15.000 square kilometer (5792 square mile) Vatnajkull National Park. \" b'Citizens fighting Blackwater Potrero. Was the location chosen so they can train cheap Mexican soldiers or so they can perform extraordinary rendition from a partner facility in Mexico' b\"S. Korean protesters, police clash in beef rallies--don't want US beef...\" b\"Oil reserves 'will last decades' - a BBC Scotland investigation has been told\" b'Cameras designed to detect terrorist facial expressions' b'Israeli peace activists protest 41 years of occupation' b\"A 5.1 earthquake hits China's Southern Qinghai province.\" b'Man goes berzerk in Akihabara and stabs everyone nearby: 6 dead, 12 injured ' b'Threat of world AIDS pandemic among heterosexuals is over, report admits' b'Angst in Ankara: Turkey Steers into a Dangerous Identity Crisis' b\"UK: Identity cards 'could be used to spy on people' and a new children's database may be used to identify likely future criminals. Has covert surveillance gone too far?\" b'Marriage, they said, was reduced to the status of a commercial transaction in which women could be discarded by husbands claiming to have discovered hidden defects in them.'\n"
          ]
        }
      ]
    },
    {
      "cell_type": "markdown",
      "source": [
        "## Inner join the stock price dataset and the news dataset.\n",
        "\n",
        "## Drop data that we are not using."
      ],
      "metadata": {
        "id": "jt45YWUVG-NG"
      }
    },
    {
      "cell_type": "code",
      "source": [
        "# join the datasets\n",
        "base_data = pd.merge(stock_prices, news, on='Date', how='inner')\n",
        "\n",
        "# delete unnecessary data\n",
        "base_data.drop(columns=['Adj Close', 'Date'], inplace=True)\n",
        "del news\n",
        "del stock_prices\n",
        "\n",
        "base_data.head(2)"
      ],
      "metadata": {
        "id": "5QA_xUIWG-UM",
        "colab": {
          "base_uri": "https://localhost:8080/",
          "height": 112
        },
        "outputId": "bfc9e9f6-2e92-4368-eaa6-f2f5c5b4f087"
      },
      "execution_count": null,
      "outputs": [
        {
          "output_type": "execute_result",
          "data": {
            "text/plain": [
              "       Open      High       Low     Close      Volume  \\\n",
              "0  6.599643  6.605000  6.276786  6.486071  1888392800   \n",
              "1  6.446786  6.670714  6.393571  6.630000  1140941200   \n",
              "\n",
              "                                                News  \n",
              "0  b'United States quits Human Rights Council' b\"...  \n",
              "1  b'Oil shortage a myth, says industry insider' ...  "
            ],
            "text/html": [
              "\n",
              "  <div id=\"df-a0499c26-5fd0-4ad5-9ed0-904b62c7b9b6\">\n",
              "    <div class=\"colab-df-container\">\n",
              "      <div>\n",
              "<style scoped>\n",
              "    .dataframe tbody tr th:only-of-type {\n",
              "        vertical-align: middle;\n",
              "    }\n",
              "\n",
              "    .dataframe tbody tr th {\n",
              "        vertical-align: top;\n",
              "    }\n",
              "\n",
              "    .dataframe thead th {\n",
              "        text-align: right;\n",
              "    }\n",
              "</style>\n",
              "<table border=\"1\" class=\"dataframe\">\n",
              "  <thead>\n",
              "    <tr style=\"text-align: right;\">\n",
              "      <th></th>\n",
              "      <th>Open</th>\n",
              "      <th>High</th>\n",
              "      <th>Low</th>\n",
              "      <th>Close</th>\n",
              "      <th>Volume</th>\n",
              "      <th>News</th>\n",
              "    </tr>\n",
              "  </thead>\n",
              "  <tbody>\n",
              "    <tr>\n",
              "      <th>0</th>\n",
              "      <td>6.599643</td>\n",
              "      <td>6.605000</td>\n",
              "      <td>6.276786</td>\n",
              "      <td>6.486071</td>\n",
              "      <td>1888392800</td>\n",
              "      <td>b'United States quits Human Rights Council' b\"...</td>\n",
              "    </tr>\n",
              "    <tr>\n",
              "      <th>1</th>\n",
              "      <td>6.446786</td>\n",
              "      <td>6.670714</td>\n",
              "      <td>6.393571</td>\n",
              "      <td>6.630000</td>\n",
              "      <td>1140941200</td>\n",
              "      <td>b'Oil shortage a myth, says industry insider' ...</td>\n",
              "    </tr>\n",
              "  </tbody>\n",
              "</table>\n",
              "</div>\n",
              "      <button class=\"colab-df-convert\" onclick=\"convertToInteractive('df-a0499c26-5fd0-4ad5-9ed0-904b62c7b9b6')\"\n",
              "              title=\"Convert this dataframe to an interactive table.\"\n",
              "              style=\"display:none;\">\n",
              "        \n",
              "  <svg xmlns=\"http://www.w3.org/2000/svg\" height=\"24px\"viewBox=\"0 0 24 24\"\n",
              "       width=\"24px\">\n",
              "    <path d=\"M0 0h24v24H0V0z\" fill=\"none\"/>\n",
              "    <path d=\"M18.56 5.44l.94 2.06.94-2.06 2.06-.94-2.06-.94-.94-2.06-.94 2.06-2.06.94zm-11 1L8.5 8.5l.94-2.06 2.06-.94-2.06-.94L8.5 2.5l-.94 2.06-2.06.94zm10 10l.94 2.06.94-2.06 2.06-.94-2.06-.94-.94-2.06-.94 2.06-2.06.94z\"/><path d=\"M17.41 7.96l-1.37-1.37c-.4-.4-.92-.59-1.43-.59-.52 0-1.04.2-1.43.59L10.3 9.45l-7.72 7.72c-.78.78-.78 2.05 0 2.83L4 21.41c.39.39.9.59 1.41.59.51 0 1.02-.2 1.41-.59l7.78-7.78 2.81-2.81c.8-.78.8-2.07 0-2.86zM5.41 20L4 18.59l7.72-7.72 1.47 1.35L5.41 20z\"/>\n",
              "  </svg>\n",
              "      </button>\n",
              "      \n",
              "  <style>\n",
              "    .colab-df-container {\n",
              "      display:flex;\n",
              "      flex-wrap:wrap;\n",
              "      gap: 12px;\n",
              "    }\n",
              "\n",
              "    .colab-df-convert {\n",
              "      background-color: #E8F0FE;\n",
              "      border: none;\n",
              "      border-radius: 50%;\n",
              "      cursor: pointer;\n",
              "      display: none;\n",
              "      fill: #1967D2;\n",
              "      height: 32px;\n",
              "      padding: 0 0 0 0;\n",
              "      width: 32px;\n",
              "    }\n",
              "\n",
              "    .colab-df-convert:hover {\n",
              "      background-color: #E2EBFA;\n",
              "      box-shadow: 0px 1px 2px rgba(60, 64, 67, 0.3), 0px 1px 3px 1px rgba(60, 64, 67, 0.15);\n",
              "      fill: #174EA6;\n",
              "    }\n",
              "\n",
              "    [theme=dark] .colab-df-convert {\n",
              "      background-color: #3B4455;\n",
              "      fill: #D2E3FC;\n",
              "    }\n",
              "\n",
              "    [theme=dark] .colab-df-convert:hover {\n",
              "      background-color: #434B5C;\n",
              "      box-shadow: 0px 1px 3px 1px rgba(0, 0, 0, 0.15);\n",
              "      filter: drop-shadow(0px 1px 2px rgba(0, 0, 0, 0.3));\n",
              "      fill: #FFFFFF;\n",
              "    }\n",
              "  </style>\n",
              "\n",
              "      <script>\n",
              "        const buttonEl =\n",
              "          document.querySelector('#df-a0499c26-5fd0-4ad5-9ed0-904b62c7b9b6 button.colab-df-convert');\n",
              "        buttonEl.style.display =\n",
              "          google.colab.kernel.accessAllowed ? 'block' : 'none';\n",
              "\n",
              "        async function convertToInteractive(key) {\n",
              "          const element = document.querySelector('#df-a0499c26-5fd0-4ad5-9ed0-904b62c7b9b6');\n",
              "          const dataTable =\n",
              "            await google.colab.kernel.invokeFunction('convertToInteractive',\n",
              "                                                     [key], {});\n",
              "          if (!dataTable) return;\n",
              "\n",
              "          const docLinkHtml = 'Like what you see? Visit the ' +\n",
              "            '<a target=\"_blank\" href=https://colab.research.google.com/notebooks/data_table.ipynb>data table notebook</a>'\n",
              "            + ' to learn more about interactive tables.';\n",
              "          element.innerHTML = '';\n",
              "          dataTable['output_type'] = 'display_data';\n",
              "          await google.colab.output.renderOutput(dataTable, element);\n",
              "          const docLink = document.createElement('div');\n",
              "          docLink.innerHTML = docLinkHtml;\n",
              "          element.appendChild(docLink);\n",
              "        }\n",
              "      </script>\n",
              "    </div>\n",
              "  </div>\n",
              "  "
            ]
          },
          "metadata": {},
          "execution_count": 17
        }
      ]
    },
    {
      "cell_type": "markdown",
      "source": [
        "## Build a Label column.\n",
        "* 0 if the stock price drops\n",
        "* 1 otherwise"
      ],
      "metadata": {
        "id": "abu6fF0jyWyA"
      }
    },
    {
      "cell_type": "code",
      "source": [
        "base_data['Label'] = np.where(base_data['Close'].shift(-1) - base_data['Close'] < 0, 0, 1)\n",
        "base_data.head(2)"
      ],
      "metadata": {
        "id": "6vlKxENkyXWm",
        "colab": {
          "base_uri": "https://localhost:8080/",
          "height": 112
        },
        "outputId": "26158c59-9462-4a3f-b85c-1056c8636638"
      },
      "execution_count": null,
      "outputs": [
        {
          "output_type": "execute_result",
          "data": {
            "text/plain": [
              "       Open      High       Low     Close      Volume  \\\n",
              "0  6.599643  6.605000  6.276786  6.486071  1888392800   \n",
              "1  6.446786  6.670714  6.393571  6.630000  1140941200   \n",
              "\n",
              "                                                News  Label  \n",
              "0  b'United States quits Human Rights Council' b\"...      1  \n",
              "1  b'Oil shortage a myth, says industry insider' ...      0  "
            ],
            "text/html": [
              "\n",
              "  <div id=\"df-c64c8fe1-77e8-422c-9372-cdd9459fba27\">\n",
              "    <div class=\"colab-df-container\">\n",
              "      <div>\n",
              "<style scoped>\n",
              "    .dataframe tbody tr th:only-of-type {\n",
              "        vertical-align: middle;\n",
              "    }\n",
              "\n",
              "    .dataframe tbody tr th {\n",
              "        vertical-align: top;\n",
              "    }\n",
              "\n",
              "    .dataframe thead th {\n",
              "        text-align: right;\n",
              "    }\n",
              "</style>\n",
              "<table border=\"1\" class=\"dataframe\">\n",
              "  <thead>\n",
              "    <tr style=\"text-align: right;\">\n",
              "      <th></th>\n",
              "      <th>Open</th>\n",
              "      <th>High</th>\n",
              "      <th>Low</th>\n",
              "      <th>Close</th>\n",
              "      <th>Volume</th>\n",
              "      <th>News</th>\n",
              "      <th>Label</th>\n",
              "    </tr>\n",
              "  </thead>\n",
              "  <tbody>\n",
              "    <tr>\n",
              "      <th>0</th>\n",
              "      <td>6.599643</td>\n",
              "      <td>6.605000</td>\n",
              "      <td>6.276786</td>\n",
              "      <td>6.486071</td>\n",
              "      <td>1888392800</td>\n",
              "      <td>b'United States quits Human Rights Council' b\"...</td>\n",
              "      <td>1</td>\n",
              "    </tr>\n",
              "    <tr>\n",
              "      <th>1</th>\n",
              "      <td>6.446786</td>\n",
              "      <td>6.670714</td>\n",
              "      <td>6.393571</td>\n",
              "      <td>6.630000</td>\n",
              "      <td>1140941200</td>\n",
              "      <td>b'Oil shortage a myth, says industry insider' ...</td>\n",
              "      <td>0</td>\n",
              "    </tr>\n",
              "  </tbody>\n",
              "</table>\n",
              "</div>\n",
              "      <button class=\"colab-df-convert\" onclick=\"convertToInteractive('df-c64c8fe1-77e8-422c-9372-cdd9459fba27')\"\n",
              "              title=\"Convert this dataframe to an interactive table.\"\n",
              "              style=\"display:none;\">\n",
              "        \n",
              "  <svg xmlns=\"http://www.w3.org/2000/svg\" height=\"24px\"viewBox=\"0 0 24 24\"\n",
              "       width=\"24px\">\n",
              "    <path d=\"M0 0h24v24H0V0z\" fill=\"none\"/>\n",
              "    <path d=\"M18.56 5.44l.94 2.06.94-2.06 2.06-.94-2.06-.94-.94-2.06-.94 2.06-2.06.94zm-11 1L8.5 8.5l.94-2.06 2.06-.94-2.06-.94L8.5 2.5l-.94 2.06-2.06.94zm10 10l.94 2.06.94-2.06 2.06-.94-2.06-.94-.94-2.06-.94 2.06-2.06.94z\"/><path d=\"M17.41 7.96l-1.37-1.37c-.4-.4-.92-.59-1.43-.59-.52 0-1.04.2-1.43.59L10.3 9.45l-7.72 7.72c-.78.78-.78 2.05 0 2.83L4 21.41c.39.39.9.59 1.41.59.51 0 1.02-.2 1.41-.59l7.78-7.78 2.81-2.81c.8-.78.8-2.07 0-2.86zM5.41 20L4 18.59l7.72-7.72 1.47 1.35L5.41 20z\"/>\n",
              "  </svg>\n",
              "      </button>\n",
              "      \n",
              "  <style>\n",
              "    .colab-df-container {\n",
              "      display:flex;\n",
              "      flex-wrap:wrap;\n",
              "      gap: 12px;\n",
              "    }\n",
              "\n",
              "    .colab-df-convert {\n",
              "      background-color: #E8F0FE;\n",
              "      border: none;\n",
              "      border-radius: 50%;\n",
              "      cursor: pointer;\n",
              "      display: none;\n",
              "      fill: #1967D2;\n",
              "      height: 32px;\n",
              "      padding: 0 0 0 0;\n",
              "      width: 32px;\n",
              "    }\n",
              "\n",
              "    .colab-df-convert:hover {\n",
              "      background-color: #E2EBFA;\n",
              "      box-shadow: 0px 1px 2px rgba(60, 64, 67, 0.3), 0px 1px 3px 1px rgba(60, 64, 67, 0.15);\n",
              "      fill: #174EA6;\n",
              "    }\n",
              "\n",
              "    [theme=dark] .colab-df-convert {\n",
              "      background-color: #3B4455;\n",
              "      fill: #D2E3FC;\n",
              "    }\n",
              "\n",
              "    [theme=dark] .colab-df-convert:hover {\n",
              "      background-color: #434B5C;\n",
              "      box-shadow: 0px 1px 3px 1px rgba(0, 0, 0, 0.15);\n",
              "      filter: drop-shadow(0px 1px 2px rgba(0, 0, 0, 0.3));\n",
              "      fill: #FFFFFF;\n",
              "    }\n",
              "  </style>\n",
              "\n",
              "      <script>\n",
              "        const buttonEl =\n",
              "          document.querySelector('#df-c64c8fe1-77e8-422c-9372-cdd9459fba27 button.colab-df-convert');\n",
              "        buttonEl.style.display =\n",
              "          google.colab.kernel.accessAllowed ? 'block' : 'none';\n",
              "\n",
              "        async function convertToInteractive(key) {\n",
              "          const element = document.querySelector('#df-c64c8fe1-77e8-422c-9372-cdd9459fba27');\n",
              "          const dataTable =\n",
              "            await google.colab.kernel.invokeFunction('convertToInteractive',\n",
              "                                                     [key], {});\n",
              "          if (!dataTable) return;\n",
              "\n",
              "          const docLinkHtml = 'Like what you see? Visit the ' +\n",
              "            '<a target=\"_blank\" href=https://colab.research.google.com/notebooks/data_table.ipynb>data table notebook</a>'\n",
              "            + ' to learn more about interactive tables.';\n",
              "          element.innerHTML = '';\n",
              "          dataTable['output_type'] = 'display_data';\n",
              "          await google.colab.output.renderOutput(dataTable, element);\n",
              "          const docLink = document.createElement('div');\n",
              "          docLink.innerHTML = docLinkHtml;\n",
              "          element.appendChild(docLink);\n",
              "        }\n",
              "      </script>\n",
              "    </div>\n",
              "  </div>\n",
              "  "
            ]
          },
          "metadata": {},
          "execution_count": 18
        }
      ]
    },
    {
      "cell_type": "markdown",
      "source": [
        "## News Data: Remove punctuations and stopwords, and convert to lowercase."
      ],
      "metadata": {
        "id": "-FDcFvqsSujn"
      }
    },
    {
      "cell_type": "code",
      "source": [
        "# create a set to store the punctuations and stopwords\n",
        "tokens_to_be_removed = set(stopwords.words())\n",
        "tokens_to_be_removed.update(string.punctuation)\n",
        "\n",
        "# remove punctuations and stopwords froma news, and convert the news to lowercase\n",
        "def process_news(news: str) -> str:\n",
        "    # tokenize the words\n",
        "    tokens = word_tokenize(news)\n",
        "\n",
        "    # remove punctuations and stopwords\n",
        "    tokens = [token for token in tokens if token not in tokens_to_be_removed]\n",
        "\n",
        "    # join the tokens and convert to lowercase\n",
        "    return ' '.join(tokens).lower()\n",
        "\n",
        "# apply process_news to the news\n",
        "base_data['News'] = base_data['News'].apply(process_news)\n",
        "base_data['News'].head(2)"
      ],
      "metadata": {
        "id": "IlQrEiKRSuu_",
        "colab": {
          "base_uri": "https://localhost:8080/"
        },
        "outputId": "eb67c684-4539-4539-c392-486796379931"
      },
      "execution_count": null,
      "outputs": [
        {
          "output_type": "execute_result",
          "data": {
            "text/plain": [
              "0    b'united states quits human rights council b '...\n",
              "1    b'oil shortage myth industry insider b '' isra...\n",
              "Name: News, dtype: object"
            ]
          },
          "metadata": {},
          "execution_count": 19
        }
      ]
    },
    {
      "cell_type": "markdown",
      "source": [
        "## Use CountVectorizer to vectorize the news data.\n",
        "We create a function that returns the n-gram vectorized version of dataset."
      ],
      "metadata": {
        "id": "teLZnlTtRTov"
      }
    },
    {
      "cell_type": "code",
      "source": [
        "def data_ngram(n: int) -> pd.DataFrame:\n",
        "    '''\n",
        "    Function that returns the dataset.\n",
        "    The parameter n determines the n-gram range.\n",
        "    '''\n",
        "\n",
        "    # vectorize the news data\n",
        "    countvectorizer = CountVectorizer(ngram_range=(1,n), max_features=100000)\n",
        "    vectors = countvectorizer.fit_transform(base_data['News']).toarray()\n",
        "    vectors = pd.DataFrame(vectors, columns=[str(i) for i in range(vectors.shape[1])])\n",
        "\n",
        "    # return the dataframe that contains the neccessary data\n",
        "    return pd.concat((base_data[['Open', 'High', 'Low', 'Close', 'Label']], vectors), axis=1, join='inner', copy=False)\n"
      ],
      "metadata": {
        "id": "6hei96hbRTuf"
      },
      "execution_count": null,
      "outputs": []
    },
    {
      "cell_type": "markdown",
      "source": [
        "## Separate data into training datasets and testing datasets that are standardized by StandardScaler.\n",
        "We create a function to return the training and testing datasets.\n",
        "\n",
        "The function should be used like this if you want to get the 4-gram version of dataset:\n",
        "```\n",
        "X_train, X_test, y_train, y_test = train_test_datasets(4)\n",
        "```\n",
        "\n"
      ],
      "metadata": {
        "id": "K0_8VtNPVGZz"
      }
    },
    {
      "cell_type": "code",
      "source": [
        "def train_test_datasets(n: int) -> Tuple[pd.DataFrame, pd.DataFrame, pd.DataFrame, pd.DataFrame]:\n",
        "    # get the data\n",
        "    data = data_ngram(n)\n",
        "\n",
        "    # split the dataset into train and test datasets with ratio 8 : 2\n",
        "    train_num = int(0.8 * len(data))\n",
        "    train = data[:train_num]\n",
        "    test = data[train_num:]\n",
        "\n",
        "    # standardize the features\n",
        "    scaler = StandardScaler()\n",
        "    X_train = scaler.fit_transform(train.drop('Label', axis=1))\n",
        "    X_test = scaler.transform(test.drop('Label', axis=1))\n",
        "\n",
        "    # get the label\n",
        "    y_train = train['Label'].to_numpy()\n",
        "    y_test = test['Label'].to_numpy()\n",
        "\n",
        "    return X_train, X_test, y_train, y_test"
      ],
      "metadata": {
        "id": "jc3MNB60VGf3"
      },
      "execution_count": null,
      "outputs": []
    },
    {
      "cell_type": "markdown",
      "source": [
        "# 4. Modelling"
      ],
      "metadata": {
        "id": "JQXFzkYVmEX9"
      }
    },
    {
      "cell_type": "markdown",
      "source": [
        "We are using logistic regression model together with the 1-gram,2-gram,3-gram and 4-gram model respectively."
      ],
      "metadata": {
        "id": "mArO1OnTM_0J"
      }
    },
    {
      "cell_type": "markdown",
      "source": [
        "Modelling(1-gram)"
      ],
      "metadata": {
        "id": "RAuOz6amC93o"
      }
    },
    {
      "cell_type": "markdown",
      "source": [
        "Logistic Regression"
      ],
      "metadata": {
        "id": "p31mOVcLT4xb"
      }
    },
    {
      "cell_type": "code",
      "source": [
        "# 1-gram model training\n",
        "X_train, X_test, y_train, y_test = train_test_datasets(1)\n",
        "\n",
        "# model 1: logistic regression\n",
        "log_md = LogisticRegression()\n",
        "log_md = log_md.fit(X_train, y_train)\n",
        "\n",
        "# 2-gram model prediction\n",
        "predictions = log_md.predict(X_test)\n",
        "\n",
        "print(classification_report(y_test, predictions))"
      ],
      "metadata": {
        "colab": {
          "base_uri": "https://localhost:8080/"
        },
        "id": "s6hqkwQa-im2",
        "outputId": "da2f5cb6-fff3-4051-8782-4e3fc118f386"
      },
      "execution_count": null,
      "outputs": [
        {
          "output_type": "stream",
          "name": "stdout",
          "text": [
            "              precision    recall  f1-score   support\n",
            "\n",
            "           0       0.52      0.33      0.40       211\n",
            "           1       0.48      0.67      0.56       196\n",
            "\n",
            "    accuracy                           0.49       407\n",
            "   macro avg       0.50      0.50      0.48       407\n",
            "weighted avg       0.50      0.49      0.48       407\n",
            "\n"
          ]
        }
      ]
    },
    {
      "cell_type": "markdown",
      "source": [
        "XGBoost"
      ],
      "metadata": {
        "id": "0_flgeHST8Py"
      }
    },
    {
      "cell_type": "code",
      "source": [
        "# XGBoost Model\n",
        "org_gbm = XGBClassifier()\n",
        "org_gbm.fit(X_train,y_train)\n",
        "y_pred = org_gbm.predict(X_test)\n",
        "\n",
        "print(classification_report(y_test,y_pred))"
      ],
      "metadata": {
        "id": "_axuO3MluF3k",
        "colab": {
          "base_uri": "https://localhost:8080/"
        },
        "outputId": "ad68420c-5d8f-451c-e7e9-155cd41e3248"
      },
      "execution_count": null,
      "outputs": [
        {
          "output_type": "stream",
          "name": "stdout",
          "text": [
            "              precision    recall  f1-score   support\n",
            "\n",
            "           0       0.54      0.41      0.47       211\n",
            "           1       0.50      0.63      0.56       196\n",
            "\n",
            "    accuracy                           0.52       407\n",
            "   macro avg       0.52      0.52      0.51       407\n",
            "weighted avg       0.52      0.52      0.51       407\n",
            "\n"
          ]
        }
      ]
    },
    {
      "cell_type": "markdown",
      "source": [
        "Fine-tuned logistic regression"
      ],
      "metadata": {
        "id": "kMhGuSmAT99j"
      }
    },
    {
      "cell_type": "code",
      "source": [
        "log=LogisticRegression()\n",
        "logis_reg_cv = GridSearchCV(log,{'penalty': ['l2','13'], 'C': [0.0001,0.001]})\n",
        "logis_reg_cv.fit(X_train,y_train)"
      ],
      "metadata": {
        "colab": {
          "base_uri": "https://localhost:8080/"
        },
        "id": "PM9fDQ1UGNSr",
        "outputId": "19405875-c03d-460b-aee2-81f6f4fba475"
      },
      "execution_count": null,
      "outputs": [
        {
          "output_type": "stream",
          "name": "stderr",
          "text": [
            "/usr/local/lib/python3.7/dist-packages/sklearn/model_selection/_validation.py:372: FitFailedWarning: \n",
            "10 fits failed out of a total of 20.\n",
            "The score on these train-test partitions for these parameters will be set to nan.\n",
            "If these failures are not expected, you can try to debug them by setting error_score='raise'.\n",
            "\n",
            "Below are more details about the failures:\n",
            "--------------------------------------------------------------------------------\n",
            "10 fits failed with the following error:\n",
            "Traceback (most recent call last):\n",
            "  File \"/usr/local/lib/python3.7/dist-packages/sklearn/model_selection/_validation.py\", line 680, in _fit_and_score\n",
            "    estimator.fit(X_train, y_train, **fit_params)\n",
            "  File \"/usr/local/lib/python3.7/dist-packages/sklearn/linear_model/_logistic.py\", line 1461, in fit\n",
            "    solver = _check_solver(self.solver, self.penalty, self.dual)\n",
            "  File \"/usr/local/lib/python3.7/dist-packages/sklearn/linear_model/_logistic.py\", line 443, in _check_solver\n",
            "    % (all_penalties, penalty)\n",
            "ValueError: Logistic Regression supports only penalties in ['l1', 'l2', 'elasticnet', 'none'], got 13.\n",
            "\n",
            "  warnings.warn(some_fits_failed_message, FitFailedWarning)\n",
            "/usr/local/lib/python3.7/dist-packages/sklearn/model_selection/_search.py:972: UserWarning: One or more of the test scores are non-finite: [0.5117056       nan 0.5000019       nan]\n",
            "  category=UserWarning,\n"
          ]
        },
        {
          "output_type": "execute_result",
          "data": {
            "text/plain": [
              "GridSearchCV(estimator=LogisticRegression(),\n",
              "             param_grid={'C': [0.0001, 0.001], 'penalty': ['l2', '13']})"
            ]
          },
          "metadata": {},
          "execution_count": 39
        }
      ]
    },
    {
      "cell_type": "code",
      "source": [
        "logis_reg_cv.best_params_"
      ],
      "metadata": {
        "colab": {
          "base_uri": "https://localhost:8080/"
        },
        "id": "7MdxDbtEJGJM",
        "outputId": "7e5db039-e15a-474c-c195-77d97eabdfbb"
      },
      "execution_count": null,
      "outputs": [
        {
          "output_type": "execute_result",
          "data": {
            "text/plain": [
              "{'C': 0.0001, 'penalty': 'l2'}"
            ]
          },
          "metadata": {},
          "execution_count": 40
        }
      ]
    },
    {
      "cell_type": "code",
      "source": [
        "logis_reg_para = LogisticRegression(**logis_reg_cv.best_params_) \n",
        "logis_reg_para.fit(X_train, y_train)\n",
        "\n",
        "logis_reg_predictions_para = logis_reg_para.predict(X_test)\n",
        "print(classification_report(logis_reg_predictions_para, y_test))"
      ],
      "metadata": {
        "colab": {
          "base_uri": "https://localhost:8080/"
        },
        "id": "4nzW04KFJItE",
        "outputId": "61c4a96e-efa5-4d37-f537-eea099478b38"
      },
      "execution_count": null,
      "outputs": [
        {
          "output_type": "stream",
          "name": "stdout",
          "text": [
            "              precision    recall  f1-score   support\n",
            "\n",
            "           0       0.20      0.49      0.28        85\n",
            "           1       0.78      0.48      0.59       322\n",
            "\n",
            "    accuracy                           0.48       407\n",
            "   macro avg       0.49      0.48      0.44       407\n",
            "weighted avg       0.66      0.48      0.53       407\n",
            "\n"
          ]
        }
      ]
    },
    {
      "cell_type": "markdown",
      "source": [
        "Model(2-grams)"
      ],
      "metadata": {
        "id": "nUnDrajfDVHW"
      }
    },
    {
      "cell_type": "markdown",
      "source": [
        "Logistic Regression"
      ],
      "metadata": {
        "id": "JCsnThycUDEe"
      }
    },
    {
      "cell_type": "code",
      "source": [
        "# 2-gram model training\n",
        "X_train, X_test, y_train, y_test = train_test_datasets(2)\n",
        "\n",
        "# model 1: logistic regression\n",
        "log_md = LogisticRegression()\n",
        "log_md = log_md.fit(X_train, y_train)\n",
        "\n",
        "# 2-gram model prediction\n",
        "predictions = log_md.predict(X_test)\n",
        "\n",
        "print(classification_report(y_test, predictions))"
      ],
      "metadata": {
        "id": "3_oW76GVNaZa",
        "colab": {
          "base_uri": "https://localhost:8080/"
        },
        "outputId": "64d91526-a833-46ac-bc25-2321eb23f4c1"
      },
      "execution_count": null,
      "outputs": [
        {
          "output_type": "stream",
          "name": "stdout",
          "text": [
            "              precision    recall  f1-score   support\n",
            "\n",
            "           0       0.53      0.28      0.37       211\n",
            "           1       0.48      0.73      0.58       196\n",
            "\n",
            "    accuracy                           0.50       407\n",
            "   macro avg       0.51      0.50      0.47       407\n",
            "weighted avg       0.51      0.50      0.47       407\n",
            "\n"
          ]
        }
      ]
    },
    {
      "cell_type": "markdown",
      "source": [
        "XGBoost"
      ],
      "metadata": {
        "id": "h-ZH7eGWUF58"
      }
    },
    {
      "cell_type": "code",
      "source": [
        "# model 2: XGBoost Model\n",
        "org_gbm = XGBClassifier()\n",
        "org_gbm.fit(X_train,y_train)\n",
        "y_pred = org_gbm.predict(X_test)\n",
        "\n",
        "print(classification_report(y_test,y_pred))"
      ],
      "metadata": {
        "colab": {
          "base_uri": "https://localhost:8080/"
        },
        "id": "qlyEGOK6DmKX",
        "outputId": "095e98ae-3180-433b-dc12-d25bed42aada"
      },
      "execution_count": null,
      "outputs": [
        {
          "output_type": "stream",
          "name": "stdout",
          "text": [
            "              precision    recall  f1-score   support\n",
            "\n",
            "           0       0.55      0.42      0.48       211\n",
            "           1       0.50      0.62      0.55       196\n",
            "\n",
            "    accuracy                           0.52       407\n",
            "   macro avg       0.52      0.52      0.52       407\n",
            "weighted avg       0.52      0.52      0.51       407\n",
            "\n"
          ]
        }
      ]
    },
    {
      "cell_type": "markdown",
      "source": [
        "Fine-tuned logistic regression"
      ],
      "metadata": {
        "id": "naXCYKMqUHsC"
      }
    },
    {
      "cell_type": "code",
      "source": [
        "log=LogisticRegression()\n",
        "logis_reg_cv = GridSearchCV(log,{'penalty': ['l2','13'], 'C': [0.1,1,10]})\n",
        "logis_reg_cv.fit(X_train,y_train)"
      ],
      "metadata": {
        "colab": {
          "base_uri": "https://localhost:8080/"
        },
        "id": "0g3_9VglJbmw",
        "outputId": "f4e93da0-e692-400b-fcc5-a0f6aa4e95b9"
      },
      "execution_count": null,
      "outputs": [
        {
          "output_type": "stream",
          "name": "stderr",
          "text": [
            "/usr/local/lib/python3.7/dist-packages/sklearn/model_selection/_validation.py:372: FitFailedWarning: \n",
            "15 fits failed out of a total of 30.\n",
            "The score on these train-test partitions for these parameters will be set to nan.\n",
            "If these failures are not expected, you can try to debug them by setting error_score='raise'.\n",
            "\n",
            "Below are more details about the failures:\n",
            "--------------------------------------------------------------------------------\n",
            "15 fits failed with the following error:\n",
            "Traceback (most recent call last):\n",
            "  File \"/usr/local/lib/python3.7/dist-packages/sklearn/model_selection/_validation.py\", line 680, in _fit_and_score\n",
            "    estimator.fit(X_train, y_train, **fit_params)\n",
            "  File \"/usr/local/lib/python3.7/dist-packages/sklearn/linear_model/_logistic.py\", line 1461, in fit\n",
            "    solver = _check_solver(self.solver, self.penalty, self.dual)\n",
            "  File \"/usr/local/lib/python3.7/dist-packages/sklearn/linear_model/_logistic.py\", line 443, in _check_solver\n",
            "    % (all_penalties, penalty)\n",
            "ValueError: Logistic Regression supports only penalties in ['l1', 'l2', 'elasticnet', 'none'], got 13.\n",
            "\n",
            "  warnings.warn(some_fits_failed_message, FitFailedWarning)\n",
            "/usr/local/lib/python3.7/dist-packages/sklearn/model_selection/_search.py:972: UserWarning: One or more of the test scores are non-finite: [0.51109212        nan 0.50862868        nan 0.50739791        nan]\n",
            "  category=UserWarning,\n"
          ]
        },
        {
          "output_type": "execute_result",
          "data": {
            "text/plain": [
              "GridSearchCV(estimator=LogisticRegression(),\n",
              "             param_grid={'C': [0.1, 1, 10], 'penalty': ['l2', '13']})"
            ]
          },
          "metadata": {},
          "execution_count": 44
        }
      ]
    },
    {
      "cell_type": "code",
      "source": [
        "logis_reg_cv.best_params_"
      ],
      "metadata": {
        "colab": {
          "base_uri": "https://localhost:8080/"
        },
        "id": "8H0VrM1CJiXI",
        "outputId": "4c205dea-877b-4028-e608-0275808b87dd"
      },
      "execution_count": null,
      "outputs": [
        {
          "output_type": "execute_result",
          "data": {
            "text/plain": [
              "{'C': 0.1, 'penalty': 'l2'}"
            ]
          },
          "metadata": {},
          "execution_count": 45
        }
      ]
    },
    {
      "cell_type": "code",
      "source": [
        "logis_reg_para = LogisticRegression(**logis_reg_cv.best_params_) \n",
        "logis_reg_para.fit(X_train, y_train)\n",
        "\n",
        "logis_reg_predictions_para = logis_reg_para.predict(X_test)\n",
        "print(classification_report(logis_reg_predictions_para, y_test))"
      ],
      "metadata": {
        "colab": {
          "base_uri": "https://localhost:8080/"
        },
        "id": "cH-tPEviJrfZ",
        "outputId": "4451666e-9f92-4705-f84f-be49187c10ff"
      },
      "execution_count": null,
      "outputs": [
        {
          "output_type": "stream",
          "name": "stdout",
          "text": [
            "              precision    recall  f1-score   support\n",
            "\n",
            "           0       0.28      0.54      0.37       110\n",
            "           1       0.74      0.49      0.59       297\n",
            "\n",
            "    accuracy                           0.50       407\n",
            "   macro avg       0.51      0.51      0.48       407\n",
            "weighted avg       0.62      0.50      0.53       407\n",
            "\n"
          ]
        }
      ]
    },
    {
      "cell_type": "markdown",
      "source": [
        "Model(3-grams)"
      ],
      "metadata": {
        "id": "Qy7SeMjODsLf"
      }
    },
    {
      "cell_type": "markdown",
      "source": [
        "Logistic regression"
      ],
      "metadata": {
        "id": "MGg0DP8pULpL"
      }
    },
    {
      "cell_type": "code",
      "source": [
        "# 3-gram model training\n",
        "X_train, X_test, y_train, y_test = train_test_datasets(3)\n",
        "\n",
        "# model 1: logistic regression\n",
        "log_md = LogisticRegression()\n",
        "log_md = log_md.fit(X_train, y_train)\n",
        "\n",
        "# 2-gram model prediction\n",
        "predictions = log_md.predict(X_test)\n",
        "\n",
        "print(classification_report(y_test, predictions))"
      ],
      "metadata": {
        "colab": {
          "base_uri": "https://localhost:8080/"
        },
        "id": "Tl4JW7ug-pqU",
        "outputId": "de252c96-46ec-40c5-dac5-431aa8fd5420"
      },
      "execution_count": null,
      "outputs": [
        {
          "output_type": "stream",
          "name": "stdout",
          "text": [
            "              precision    recall  f1-score   support\n",
            "\n",
            "           0       0.57      0.29      0.39       211\n",
            "           1       0.50      0.77      0.61       196\n",
            "\n",
            "    accuracy                           0.52       407\n",
            "   macro avg       0.54      0.53      0.50       407\n",
            "weighted avg       0.54      0.52      0.49       407\n",
            "\n"
          ]
        }
      ]
    },
    {
      "cell_type": "markdown",
      "source": [
        "XGBoost"
      ],
      "metadata": {
        "id": "nec7eAmFUNqT"
      }
    },
    {
      "cell_type": "code",
      "source": [
        "# XGBoost Model\n",
        "org_gbm = XGBClassifier()\n",
        "org_gbm.fit(X_train,y_train)\n",
        "y_pred = org_gbm.predict(X_test)\n",
        "\n",
        "print(classification_report(y_test,y_pred))"
      ],
      "metadata": {
        "colab": {
          "base_uri": "https://localhost:8080/"
        },
        "id": "pKa2lz-BLOm3",
        "outputId": "50e76fdc-6d9c-415a-eab9-a269ce515e0a"
      },
      "execution_count": null,
      "outputs": [
        {
          "output_type": "stream",
          "name": "stdout",
          "text": [
            "              precision    recall  f1-score   support\n",
            "\n",
            "           0       0.55      0.42      0.48       211\n",
            "           1       0.50      0.62      0.55       196\n",
            "\n",
            "    accuracy                           0.52       407\n",
            "   macro avg       0.52      0.52      0.52       407\n",
            "weighted avg       0.52      0.52      0.51       407\n",
            "\n"
          ]
        }
      ]
    },
    {
      "cell_type": "markdown",
      "source": [
        "Model(4-gram)"
      ],
      "metadata": {
        "id": "6uTUZhN4VCIi"
      }
    },
    {
      "cell_type": "markdown",
      "source": [
        "Logistic regression"
      ],
      "metadata": {
        "id": "Vn1qNFnLUPKS"
      }
    },
    {
      "cell_type": "code",
      "source": [
        "# 4-gram model training\n",
        "X_train, X_test, y_train, y_test = train_test_datasets(4)\n",
        "\n",
        "# model 1: logistic regression\n",
        "log_md = LogisticRegression()\n",
        "log_md = log_md.fit(X_train, y_train)\n",
        "\n",
        "# 2-gram model prediction\n",
        "predictions = log_md.predict(X_test)\n",
        "\n",
        "print(classification_report(y_test, predictions))"
      ],
      "metadata": {
        "colab": {
          "base_uri": "https://localhost:8080/"
        },
        "id": "Lz89C6U7_48W",
        "outputId": "50920796-a6e1-4de9-961e-4e0288599adb"
      },
      "execution_count": null,
      "outputs": [
        {
          "output_type": "stream",
          "name": "stdout",
          "text": [
            "              precision    recall  f1-score   support\n",
            "\n",
            "           0       0.54      0.30      0.39       211\n",
            "           1       0.49      0.72      0.59       196\n",
            "\n",
            "    accuracy                           0.51       407\n",
            "   macro avg       0.52      0.51      0.49       407\n",
            "weighted avg       0.52      0.51      0.48       407\n",
            "\n"
          ]
        }
      ]
    },
    {
      "cell_type": "markdown",
      "source": [
        "# Findings\n",
        "* XGBoost is more accurate than logistic regression in our case.\n",
        "* 3-gram with XGBoost is better than other models in our case."
      ],
      "metadata": {
        "id": "yWBteyNXSZAz"
      }
    }
  ]
}
